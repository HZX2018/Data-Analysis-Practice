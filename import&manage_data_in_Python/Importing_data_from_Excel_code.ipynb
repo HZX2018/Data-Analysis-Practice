{
 "cells": [
  {
   "cell_type": "markdown",
   "metadata": {},
   "source": [
    "# Importing stock listing data from Excel"
   ]
  },
  {
   "cell_type": "code",
   "execution_count": 1,
   "metadata": {},
   "outputs": [
    {
     "name": "stdout",
     "output_type": "stream",
     "text": [
      "  Stock Symbol           Company Name  Last Sale  Market Capitalization  \\\n",
      "0         AAPL             Apple Inc.     141.05           7.400000e+11   \n",
      "1        GOOGL          Alphabet Inc.     840.18           5.810000e+11   \n",
      "2         GOOG          Alphabet Inc.     823.56           5.690000e+11   \n",
      "3         MSFT  Microsoft Corporation      64.95           5.020000e+11   \n",
      "4         AMZN       Amazon.com, Inc.     884.67           4.220000e+11   \n",
      "5           FB         Facebook, Inc.     139.39           4.030000e+11   \n",
      "6        CMCSA    Comcast Corporation      37.14           1.760000e+11   \n",
      "7         INTC      Intel Corporation      35.25           1.660000e+11   \n",
      "8         CSCO    Cisco Systems, Inc.      32.42           1.620000e+11   \n",
      "9         AMGN             Amgen Inc.     161.61           1.190000e+11   \n",
      "\n",
      "  IPO Year             Sector  \\\n",
      "0     1980         Technology   \n",
      "1      NAN         Technology   \n",
      "2     2004         Technology   \n",
      "3     1986         Technology   \n",
      "4     1997  Consumer Services   \n",
      "5     2012         Technology   \n",
      "6      NAN  Consumer Services   \n",
      "7      NAN         Technology   \n",
      "8     1990         Technology   \n",
      "9     1983        Health Care   \n",
      "\n",
      "                                            Industry Last Update  \n",
      "0                             Computer Manufacturing     4/26/17  \n",
      "1    Computer Software: Programming, Data Processing     4/24/17  \n",
      "2    Computer Software: Programming, Data Processing     4/23/17  \n",
      "3            Computer Software: Prepackaged Software     4/26/17  \n",
      "4                     Catalog/Specialty Distribution     4/24/17  \n",
      "5    Computer Software: Programming, Data Processing     4/26/17  \n",
      "6                                Television Services     4/26/17  \n",
      "7                                     Semiconductors     4/23/17  \n",
      "8                  Computer Communications Equipment     4/23/17  \n",
      "9  Biotechnology: Biological Products (No Diagnos...     4/24/17  \n",
      "<class 'pandas.core.frame.DataFrame'>\n",
      "RangeIndex: 1115 entries, 0 to 1114\n",
      "Data columns (total 8 columns):\n",
      "Stock Symbol             1115 non-null object\n",
      "Company Name             1115 non-null object\n",
      "Last Sale                1115 non-null float64\n",
      "Market Capitalization    1115 non-null float64\n",
      "IPO Year                 1115 non-null object\n",
      "Sector                   1115 non-null object\n",
      "Industry                 1115 non-null object\n",
      "Last Update              1115 non-null object\n",
      "dtypes: float64(2), object(6)\n",
      "memory usage: 69.8+ KB\n"
     ]
    }
   ],
   "source": [
    "# Import pandas library\n",
    "import pandas as pd\n",
    "\n",
    "# Import the data\n",
    "nasdaq = pd.read_csv('nasdaq-listings.csv')\n",
    "\n",
    "# Display first 10 rows\n",
    "print(nasdaq.head(10))\n",
    "\n",
    "# Inspect nasdaq\n",
    "nasdaq.info()"
   ]
  },
  {
   "cell_type": "code",
   "execution_count": 2,
   "metadata": {},
   "outputs": [
    {
     "name": "stdout",
     "output_type": "stream",
     "text": [
      "  Stock Symbol           Company Name  Last Sale  Market Capitalization  \\\n",
      "0         AAPL             Apple Inc.     141.05           7.400000e+11   \n",
      "1        GOOGL          Alphabet Inc.     840.18           5.810000e+11   \n",
      "2         GOOG          Alphabet Inc.     823.56           5.690000e+11   \n",
      "3         MSFT  Microsoft Corporation      64.95           5.020000e+11   \n",
      "4         AMZN       Amazon.com, Inc.     884.67           4.220000e+11   \n",
      "\n",
      "   IPO Year             Sector  \\\n",
      "0    1980.0         Technology   \n",
      "1       NaN         Technology   \n",
      "2    2004.0         Technology   \n",
      "3    1986.0         Technology   \n",
      "4    1997.0  Consumer Services   \n",
      "\n",
      "                                          Industry Last Update  \n",
      "0                           Computer Manufacturing  2017-04-26  \n",
      "1  Computer Software: Programming, Data Processing  2017-04-24  \n",
      "2  Computer Software: Programming, Data Processing  2017-04-23  \n",
      "3          Computer Software: Prepackaged Software  2017-04-26  \n",
      "4                   Catalog/Specialty Distribution  2017-04-24  \n",
      "<class 'pandas.core.frame.DataFrame'>\n",
      "RangeIndex: 1115 entries, 0 to 1114\n",
      "Data columns (total 8 columns):\n",
      "Stock Symbol             1115 non-null object\n",
      "Company Name             1115 non-null object\n",
      "Last Sale                1115 non-null float64\n",
      "Market Capitalization    1115 non-null float64\n",
      "IPO Year                 593 non-null float64\n",
      "Sector                   1036 non-null object\n",
      "Industry                 1036 non-null object\n",
      "Last Update              1115 non-null datetime64[ns]\n",
      "dtypes: datetime64[ns](1), float64(3), object(4)\n",
      "memory usage: 69.8+ KB\n"
     ]
    }
   ],
   "source": [
    "# Import the data\n",
    "nasdaq = pd.read_csv('nasdaq-listings.csv', na_values='NAN', parse_dates=['Last Update'])\n",
    "\n",
    "# Display the head of the data\n",
    "print(nasdaq.head())\n",
    "\n",
    "# Inspect the data\n",
    "nasdaq.info()\n"
   ]
  },
  {
   "cell_type": "code",
   "execution_count": 4,
   "metadata": {},
   "outputs": [
    {
     "name": "stdout",
     "output_type": "stream",
     "text": [
      "  Stock Symbol            Company Name  Last Sale  Market Capitalization  \\\n",
      "0          DDD  3D Systems Corporation      14.48           1.647165e+09   \n",
      "1          MMM              3M Company     188.65           1.127366e+11   \n",
      "2         WBAI         500.com Limited      13.96           5.793129e+08   \n",
      "3         WUBA             58.com Inc.      36.11           5.225238e+09   \n",
      "4          AHC   A.H. Belo Corporation       6.20           1.347351e+08   \n",
      "\n",
      "   IPO Year             Sector  \\\n",
      "0       NaN         Technology   \n",
      "1       NaN        Health Care   \n",
      "2    2013.0  Consumer Services   \n",
      "3    2013.0         Technology   \n",
      "4       NaN  Consumer Services   \n",
      "\n",
      "                                          Industry  \n",
      "0          Computer Software: Prepackaged Software  \n",
      "1                       Medical/Dental Instruments  \n",
      "2            Services-Misc. Amusement & Recreation  \n",
      "3  Computer Software: Programming, Data Processing  \n",
      "4                             Newspapers/Magazines  \n",
      "<class 'pandas.core.frame.DataFrame'>\n",
      "RangeIndex: 3147 entries, 0 to 3146\n",
      "Data columns (total 7 columns):\n",
      "Stock Symbol             3147 non-null object\n",
      "Company Name             3147 non-null object\n",
      "Last Sale                3079 non-null float64\n",
      "Market Capitalization    3147 non-null float64\n",
      "IPO Year                 1361 non-null float64\n",
      "Sector                   2177 non-null object\n",
      "Industry                 2177 non-null object\n",
      "dtypes: float64(3), object(4)\n",
      "memory usage: 172.2+ KB\n"
     ]
    }
   ],
   "source": [
    "# Import the data\n",
    "nyse = pd.read_excel('listings.xlsx', sheet_name='nyse', na_values='n/a')\n",
    "\n",
    "# Display the head of the data\n",
    "print(nyse.head())\n",
    "\n",
    "# Inspect the data\n",
    "nyse.info()\n"
   ]
  },
  {
   "cell_type": "code",
   "execution_count": 6,
   "metadata": {},
   "outputs": [
    {
     "name": "stdout",
     "output_type": "stream",
     "text": [
      "<class 'pandas.core.frame.DataFrame'>\n",
      "RangeIndex: 3167 entries, 0 to 3166\n",
      "Data columns (total 7 columns):\n",
      "Stock Symbol             3167 non-null object\n",
      "Company Name             3167 non-null object\n",
      "Last Sale                3165 non-null float64\n",
      "Market Capitalization    3167 non-null float64\n",
      "IPO Year                 1386 non-null float64\n",
      "Sector                   2767 non-null object\n",
      "Industry                 2767 non-null object\n",
      "dtypes: float64(3), object(4)\n",
      "memory usage: 173.3+ KB\n"
     ]
    }
   ],
   "source": [
    "# Create pd.ExcelFile() object\n",
    "xls = pd.ExcelFile('listings.xlsx')\n",
    "\n",
    "# Extract sheet names and store in exchanges\n",
    "exchanges = xls.sheet_names\n",
    "\n",
    "# Create listings dictionary with all sheet data\n",
    "listings = pd.read_excel(xls, sheet_name=exchanges, na_values='n/a')\n",
    "\n",
    "# Inspect NASDAQ listings\n",
    "listings['nasdaq'].info()\n"
   ]
  },
  {
   "cell_type": "code",
   "execution_count": 7,
   "metadata": {},
   "outputs": [
    {
     "name": "stdout",
     "output_type": "stream",
     "text": [
      "<class 'pandas.core.frame.DataFrame'>\n",
      "RangeIndex: 3147 entries, 0 to 3146\n",
      "Data columns (total 7 columns):\n",
      "Stock Symbol             3147 non-null object\n",
      "Company Name             3147 non-null object\n",
      "Last Sale                3079 non-null float64\n",
      "Market Capitalization    3147 non-null float64\n",
      "IPO Year                 1361 non-null float64\n",
      "Sector                   2177 non-null object\n",
      "Industry                 2177 non-null object\n",
      "dtypes: float64(3), object(4)\n",
      "memory usage: 172.2+ KB\n",
      "<class 'pandas.core.frame.DataFrame'>\n",
      "RangeIndex: 3167 entries, 0 to 3166\n",
      "Data columns (total 7 columns):\n",
      "Stock Symbol             3167 non-null object\n",
      "Company Name             3167 non-null object\n",
      "Last Sale                3165 non-null float64\n",
      "Market Capitalization    3167 non-null float64\n",
      "IPO Year                 1386 non-null float64\n",
      "Sector                   2767 non-null object\n",
      "Industry                 2767 non-null object\n",
      "dtypes: float64(3), object(4)\n",
      "memory usage: 173.3+ KB\n"
     ]
    }
   ],
   "source": [
    "# Import the NYSE and NASDAQ listings\n",
    "nyse = pd.read_excel('listings.xlsx', sheet_name='nyse', na_values='n/a')\n",
    "nasdaq = pd.read_excel('listings.xlsx', sheet_name='nasdaq', na_values='n/a')\n",
    "\n",
    "# Inspect nyse and nasdaq\n",
    "nyse.info()\n",
    "nasdaq.info()\n",
    "\n",
    "# Add Exchange reference columns\n",
    "nyse['Exchange'] = 'NYSE'\n",
    "nasdaq['Exchange'] = 'NASDAQ'\n",
    "\n",
    "# Concatenate DataFrames  \n",
    "combined_listings = pd.concat([nyse, nasdaq]) \n"
   ]
  },
  {
   "cell_type": "code",
   "execution_count": 8,
   "metadata": {},
   "outputs": [
    {
     "name": "stdout",
     "output_type": "stream",
     "text": [
      "<class 'pandas.core.frame.DataFrame'>\n",
      "Int64Index: 6674 entries, 0 to 3146\n",
      "Data columns (total 8 columns):\n",
      "Stock Symbol             6674 non-null object\n",
      "Company Name             6674 non-null object\n",
      "Last Sale                6590 non-null float64\n",
      "Market Capitalization    6674 non-null float64\n",
      "IPO Year                 2852 non-null float64\n",
      "Sector                   5182 non-null object\n",
      "Industry                 5182 non-null object\n",
      "Exchange                 6674 non-null object\n",
      "dtypes: float64(3), object(5)\n",
      "memory usage: 469.3+ KB\n"
     ]
    }
   ],
   "source": [
    "# Create the pd.ExcelFile() object\n",
    "xls = pd.ExcelFile('listings.xlsx')\n",
    "\n",
    "# Extract the sheet names from xls\n",
    "exchanges = xls.sheet_names\n",
    "\n",
    "# Create an empty list: listings\n",
    "listings = []\n",
    "\n",
    "# Import the data\n",
    "for exchange in exchanges:\n",
    "    listing = pd.read_excel(xls, sheet_name=exchange, na_values='n/a')\n",
    "    listing['Exchange'] = exchange\n",
    "    listings.append(listing)\n",
    "\n",
    "# Concatenate the listings: listing_data\n",
    "listing_data = pd.concat(listings)\n",
    "\n",
    "# Inspect the results\n",
    "listing_data.info()"
   ]
  },
  {
   "cell_type": "code",
   "execution_count": null,
   "metadata": {
    "collapsed": true
   },
   "outputs": [],
   "source": []
  }
 ],
 "metadata": {
  "kernelspec": {
   "display_name": "Python 3",
   "language": "python",
   "name": "python3"
  },
  "language_info": {
   "codemirror_mode": {
    "name": "ipython",
    "version": 3
   },
   "file_extension": ".py",
   "mimetype": "text/x-python",
   "name": "python",
   "nbconvert_exporter": "python",
   "pygments_lexer": "ipython3",
   "version": "3.6.1"
  }
 },
 "nbformat": 4,
 "nbformat_minor": 2
}
